{
 "cells": [
  {
   "cell_type": "markdown",
   "metadata": {},
   "source": [
    "# Bottom Boundary Layer Studies at the OSNAP Line\n",
    "- Investigating the complex interaction of large scale flows with a broad range of topography "
   ]
  },
  {
   "cell_type": "code",
   "execution_count": 2,
   "metadata": {},
   "outputs": [],
   "source": [
    "import matplotlib.pyplot as plt\n",
    "import numpy as np\n",
    "import xarray as xr\n",
    "import colorcet as cc\n",
    "import cmocean\n",
    "import scipy.signal as signal\n",
    "import scipy.interpolate as interper\n",
    "# %connect_info # use this to connect a console for testing and dev"
   ]
  },
  {
   "cell_type": "markdown",
   "metadata": {},
   "source": [
    "## Load Relevant OSNAP data \n"
   ]
  },
  {
   "cell_type": "code",
   "execution_count": 3,
   "metadata": {},
   "outputs": [],
   "source": [
    "## TODO  Move this to a script function with cloud hosted data\n",
    "\n",
    "# gridded data contains numerous outputs from various OSNAP related investigations\n",
    "grid = xr.load_dataset('/Users/manishdevana/Research/data_storage/mooring_gridded_6year_with_area_layer_thickness_transports.nc') \n"
   ]
  },
  {
   "cell_type": "markdown",
   "metadata": {},
   "source": [
    "## Inspect OSNAP Region"
   ]
  },
  {
   "cell_type": "code",
   "execution_count": null,
   "metadata": {},
   "outputs": [],
   "source": []
  },
  {
   "cell_type": "code",
   "execution_count": null,
   "metadata": {},
   "outputs": [],
   "source": []
  }
 ],
 "metadata": {
  "kernelspec": {
   "display_name": "Python 3.9.7 ('oc')",
   "language": "python",
   "name": "python3"
  },
  "language_info": {
   "codemirror_mode": {
    "name": "ipython",
    "version": 3
   },
   "file_extension": ".py",
   "mimetype": "text/x-python",
   "name": "python",
   "nbconvert_exporter": "python",
   "pygments_lexer": "ipython3",
   "version": "3.9.7"
  },
  "orig_nbformat": 4,
  "vscode": {
   "interpreter": {
    "hash": "8073362b48c5182f79670f1a5e323549a821615d0dac78126bf304674d1a9000"
   }
  }
 },
 "nbformat": 4,
 "nbformat_minor": 2
}
