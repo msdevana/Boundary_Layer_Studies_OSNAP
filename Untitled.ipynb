{
 "cells": [
  {
   "cell_type": "code",
   "execution_count": 1,
   "id": "30430764-0ce2-4261-a0f3-25fea630cd9e",
   "metadata": {},
   "outputs": [
    {
     "name": "stdout",
     "output_type": "stream",
     "text": [
      "loading topography (call loadTopo() to get dataset\n"
     ]
    }
   ],
   "source": [
    "# import data\n",
    "import matplotlib.pyplot as plt\n",
    "import numpy as np\n",
    "import xarray as xr\n",
    "import pandas as pd\n",
    "import cmocean\n",
    "import colorcet as cc\n",
    "import scipy.interpolate as interper\n",
    "from scipy.io import loadmat\n",
    "# from tqdm.notebook import tqdm as loading\n",
    "import scipy.integrate as integrator \n",
    "from matplotlib.colors import ListedColormap\n",
    "import pyvista \n",
    "# pv = pyvista\n",
    "import osnap_tools as ost\n",
    "\n",
    "import scipy.signal as sig\n",
    "# plotting default overrides\n",
    "plt.rcParams['font.family'] = 'sans-serif'\n",
    "plt.rcParams['font.sans-serif'] = 'Helvetica'\n",
    "plt.rcParams['font.weight'] = 'bold'"
   ]
  },
  {
   "cell_type": "code",
   "execution_count": 2,
   "id": "9ff290ea-f6d1-4b65-8d2e-9500e6f1abf0",
   "metadata": {},
   "outputs": [],
   "source": [
    "path = '/Users/manishdevana/Research/data_storage/Multibeam/'\n",
    "topo = loadmat(path+'osnap_merged_bathy_ss_french_knorr.mat')\n",
    "lon = topo['longrid'].flatten()\n",
    "lat = topo['latgrid'].flatten()\n",
    "topo = topo['merged_bathy_ss_french_knorr']\n"
   ]
  },
  {
   "cell_type": "code",
   "execution_count": 3,
   "id": "3449579f-6b8e-4a70-97c0-182214beb4d9",
   "metadata": {},
   "outputs": [],
   "source": [
    "grid = pyvista.UniformGrid()\n",
    "grid.dimensions = (lon.shape[0], lat.shape[0], 1)\n",
    "topo2 = topo\n",
    "grid.point_data['topo'] = topo2.flatten('C')\n",
    "# Now plot the grid!\n",
    "\n",
    "# grid['elev'] = pyvista.plotting.normalize(grid['topo'])\n",
    "grid = grid.warp_by_scalar(factor=.2)"
   ]
  },
  {
   "cell_type": "code",
   "execution_count": 4,
   "id": "9ee37a01-9a90-46dd-a1fa-1a66e4aa9552",
   "metadata": {},
   "outputs": [],
   "source": [
    "# bathymetry data\n",
    "# bathy_file = '/Users/manishdevana/Research/data_storage/GEBCO_2019/GEBCO_2019.nc'\n",
    "# bathy = xr.open_dataset(bathy_file)\n",
    "\n",
    "# ## Map set up limits\n",
    "# lonlims = slice(-31, -10)\n",
    "# latlims = slice(57, 63)\n",
    "\n",
    "# # lonlims = slice(-23, -10)\n",
    "# # latlims = slice(53, 60)\n",
    "# bathy = bathy.sel(lon=lonlims, lat=latlims)\n",
    "# # bathy = np.abs(bathy)\n",
    "# bathy = bathy.where(bathy.elevation <0)\n",
    "\n",
    "# grid = pyvista.UniformGrid()\n",
    "# grid.dimensions = (bathy.lon.values.shape[0], bathy.lat.values.shape[0], 1)\n",
    "# # grid.dimensions = (lon.shape[0], lat.shape[0], 1)\n",
    "# # topo2 = topo\n",
    "# grid.point_data['topo'] = bathy.elevation.values.flatten('C')\n",
    "# # topo2 = topo\n",
    "# # grid.point_arrays['topo'] = topo2.flatten('C')\n",
    "# # Now plot the grid!\n",
    "\n",
    "# grid['elev'] = pyvista.plotting.normalize(grid['to/po']) * 100\n",
    "# grid = grid.warp_by_scalar(factor=4)"
   ]
  },
  {
   "cell_type": "code",
   "execution_count": 5,
   "id": "2d80126d-0e6e-44ad-bf0a-d3b46a836cab",
   "metadata": {},
   "outputs": [],
   "source": [
    "# grid.plot() ."
   ]
  },
  {
   "cell_type": "code",
   "execution_count": 6,
   "id": "38e16855-34e6-45e7-bf89-3d50635063fe",
   "metadata": {},
   "outputs": [
    {
     "data": {
      "text/html": [
       "<table><tr><th>Header</th><th>Data Arrays</th></tr><tr><td>\n",
       "<table>\n",
       "<tr><th>StructuredGrid</th><th>Information</th></tr>\n",
       "<tr><td>N Cells</td><td>16359090</td></tr>\n",
       "<tr><td>N Points</td><td>17875680</td></tr>\n",
       "<tr><td>X Bounds</td><td>0.000e+00, 1.335e+03</td></tr>\n",
       "<tr><td>Y Bounds</td><td>0.000e+00, 1.114e+03</td></tr>\n",
       "<tr><td>Z Bounds</td><td>-1.151e+03, -1.269e+02</td></tr>\n",
       "<tr><td>Dimensions</td><td>1336, 1115, 12</td></tr>\n",
       "<tr><td>N Arrays</td><td>1</td></tr>\n",
       "</table>\n",
       "\n",
       "</td><td>\n",
       "<table>\n",
       "<tr><th>Name</th><th>Field</th><th>Type</th><th>N Comp</th><th>Min</th><th>Max</th></tr>\n",
       "<tr><td><b>Elevation</b></td><td>Points</td><td>float64</td><td>1</td><td>-1.151e+03</td><td>-1.269e+02</td></tr>\n",
       "</table>\n",
       "\n",
       "</td></tr> </table>"
      ],
      "text/plain": [
       "StructuredGrid (0x7fe6a1035580)\n",
       "  N Cells:\t16359090\n",
       "  N Points:\t17875680\n",
       "  X Bounds:\t0.000e+00, 1.335e+03\n",
       "  Y Bounds:\t0.000e+00, 1.114e+03\n",
       "  Z Bounds:\t-1.151e+03, -1.269e+02\n",
       "  Dimensions:\t1336, 1115, 12\n",
       "  N Arrays:\t1"
      ]
     },
     "execution_count": 6,
     "metadata": {},
     "output_type": "execute_result"
    }
   ],
   "source": [
    "z_cells = np.array([25] * 5 + [35] * 3 + [50] * 2 + [75, 100])\n",
    "\n",
    "\n",
    "xx = np.repeat(grid.x, len(z_cells), axis=-1)\n",
    "yy = np.repeat(grid.y, len(z_cells), axis=-1)\n",
    "zz = np.repeat(grid.z, len(z_cells), axis=-1) - np.cumsum(z_cells).reshape((1, 1, -1))\n",
    "\n",
    "mesh = pyvista.StructuredGrid(xx, yy, zz)\n",
    "mesh[\"Elevation\"] = zz.ravel(order=\"F\")\n",
    "mesh"
   ]
  },
  {
   "cell_type": "code",
   "execution_count": 7,
   "id": "7b56a5d0-f812-45a8-8311-8a01ac406e49",
   "metadata": {},
   "outputs": [],
   "source": [
    "# mesh.plot(\n",
    "#     # show_edges=True,\n",
    "#           lighting=True, \n",
    "#     # cpos=cpos\n",
    "# )"
   ]
  },
  {
   "cell_type": "code",
   "execution_count": 8,
   "id": "1ccb687c-ff35-497c-a5c4-cc0e11927f9e",
   "metadata": {
    "tags": []
   },
   "outputs": [
    {
     "data": {
      "text/html": [
       "<table><tr><th>Header</th><th>Data Arrays</th></tr><tr><td>\n",
       "<table>\n",
       "<tr><th>StructuredGrid</th><th>Information</th></tr>\n",
       "<tr><td>N Cells</td><td>7992</td></tr>\n",
       "<tr><td>N Points</td><td>9000</td></tr>\n",
       "<tr><td>X Bounds</td><td>5.362e+01, 1.097e+03</td></tr>\n",
       "<tr><td>Y Bounds</td><td>2.223e+02, 4.178e+02</td></tr>\n",
       "<tr><td>Z Bounds</td><td>-7.400e+02, -1.999e+02</td></tr>\n",
       "<tr><td>Dimensions</td><td>1000, 9, 1</td></tr>\n",
       "<tr><td>N Arrays</td><td>1</td></tr>\n",
       "</table>\n",
       "\n",
       "</td><td>\n",
       "<table>\n",
       "<tr><th>Name</th><th>Field</th><th>Type</th><th>N Comp</th><th>Min</th><th>Max</th></tr>\n",
       "<tr><td><b>values</b></td><td>Points</td><td>float64</td><td>1</td><td>-3.200e+03</td><td>0.000e+00</td></tr>\n",
       "</table>\n",
       "\n",
       "</td></tr> </table>"
      ],
      "text/plain": [
       "StructuredGrid (0x7fe6b071a760)\n",
       "  N Cells:\t7992\n",
       "  N Points:\t9000\n",
       "  X Bounds:\t5.362e+01, 1.097e+03\n",
       "  Y Bounds:\t2.223e+02, 4.178e+02\n",
       "  Z Bounds:\t-7.400e+02, -1.999e+02\n",
       "  Dimensions:\t1000, 9, 1\n",
       "  N Arrays:\t1"
      ]
     },
     "execution_count": 8,
     "metadata": {},
     "output_type": "execute_result"
    }
   ],
   "source": [
    "topoOsnap = ost.loadTopo()\n",
    "lons = topoOsnap['moor_lon'].flatten()\n",
    "lats = topoOsnap['moor_lat'].flatten()\n",
    "\n",
    "Flon = interper.interp1d( lon,np.arange(lon.shape[0]) )\n",
    "Flat = interper.interp1d( lat,np.arange(lat.shape[0]), )\n",
    "\n",
    "# for each trace need an x a y a nd z\n",
    "\n",
    "points = [[Flon(lonin), Flat(latin), -100] for lonin,latin in zip(lons, lats)]\n",
    "# points = np.hstack(points)\n",
    "\n",
    "# z = np.full(lons.shape[0], -50)\n",
    "path = np.vstack(points)\n",
    "\n",
    "# z2 = np.full(lons.shape[0], 1)\n",
    "\n",
    "    \n",
    "ntraces = 1000\n",
    "zfake = []\n",
    "for zz in np.linspace(-3200, 0, ntraces):\n",
    "    zz  = np.full((lons.shape[0]), zz)\n",
    "    zfake.append(zz)\n",
    "    \n",
    "zfake = np.stack(zfake).T\n",
    "\n",
    "# fake plane data\n",
    "# zfake = np.full((lons.shape[0], 100), 1)\n",
    "nsamples = zfake.shape[1]\n",
    "# n\n",
    "zspacing = .12\n",
    "path = pyvista.wrap(path).points\n",
    "points2 = np.repeat(path, nsamples, axis=0)\n",
    "# nsamples, ntraces = topo.shape\n",
    "\n",
    "# repeat the Z locations across\n",
    "z_spacing = .1\n",
    "tp = np.arange(0, z_spacing*nsamples, z_spacing)\n",
    "tp = path[:,2][:,None] - tp\n",
    "\n",
    "points2[:,-1] = tp.ravel()\n",
    "points2 = pyvista.wrap(points2).points\n",
    "\n",
    "# grid2 = pv.StructuredGrid(points2[:,0], points2[:, 1], points2[:, 2])\n",
    "grid2 = pyvista.StructuredGrid()\n",
    "grid2.points = points2\n",
    "\n",
    "grid2.dimensions = nsamples, 9, 1 \n",
    "\n",
    "# grid2['values'] = np.full(points2.shape[0], 0)\n",
    "# grid.dimensions = lons\n",
    "grid2\n",
    "# # Add the data array - note the ordering!\n",
    "grid2[\"values\"] = zfake.ravel(order=\"C\")\n",
    "# grid2['elev'] = pyvista.plotting.normalize(grid['e']) * 100\n",
    "grid2 = grid2.warp_by_scalar(factor=.2) \n",
    "grid2"
   ]
  },
  {
   "cell_type": "code",
   "execution_count": 9,
   "id": "b9359cfc-2a02-4676-a5ff-c108a6a94ab3",
   "metadata": {},
   "outputs": [],
   "source": [
    "topoOsnap = ost.loadTopo()\n",
    "lons = topoOsnap['moor_lon'].flatten()\n",
    "lats = topoOsnap['moor_lat'].flatten()\n",
    "\n",
    "Flon = interper.interp1d( lon,np.arange(lon.shape[0]) )\n",
    "Flat = interper.interp1d( lat,np.arange(lat.shape[0]), )\n",
    "\n",
    "# for each trace need an x a y a nd z\n",
    "\n",
    "points = [[Flon(lonin), Flat(latin), -200] for lonin,latin in zip(lons, lats)]\n",
    "# points = np.hstack(points)\n",
    "\n",
    "# z = np.full(lons.shape[0], -50)\n",
    "path = np.vstack(points)\n",
    "\n",
    "# z2 = np.full(lons.shape[0], 1)\n",
    "\n",
    "    \n",
    "ntraces = 1000\n",
    "zfake = []\n",
    "for zz in np.linspace(-3200, 0, ntraces):\n",
    "    zz  = np.full((lons.shape[0]), zz)\n",
    "    zfake.append(zz)\n",
    "    \n",
    "zfake = np.stack(zfake).T\n",
    "\n",
    "# fake plane data\n",
    "# zfake = np.full((lons.shape[0], 100), 1)\n",
    "nsamples = zfake.shape[1]\n",
    "# n\n",
    "zspacing = .12\n",
    "path = pyvista.wrap(path).points\n",
    "points2 = np.repeat(path, nsamples, axis=0)\n",
    "# nsamples, ntraces = topo.shape\n",
    "\n",
    "# repeat the Z locations across\n",
    "z_spacing = .1\n",
    "tp = np.arange(0, z_spacing*nsamples, z_spacing)\n",
    "tp = path[:,2][:,None] - tp\n",
    "\n",
    "points2[:,-1] = tp.ravel()\n",
    "points2 = pyvista.wrap(points2).points\n",
    "\n",
    "# # grid2 = pv.StructuredGrid(points2[:,0], points2[:, 1], points2[:, 2])\n",
    "# grid2 = pyvista.StructuredGrid()\n",
    "# grid2.points = points2\n",
    "\n",
    "# grid2.dimensions = nsamples, 9, 1 \n",
    "\n",
    "# # grid2['values'] = np.full(points2.shape[0], 0)\n",
    "# # grid.dimensions = lons\n",
    "# grid2\n",
    "# # # Add the data array - note the ordering!\n",
    "# grid2[\"values\"] = zfake.ravel(order=\"C\")\n",
    "# # grid2['elev'] = pyvista.plotting.normalize(grid['e']) * 100\n",
    "# grid2 = grid2.warp_by_scalar(factor=.2) \n",
    "# grid2"
   ]
  },
  {
   "cell_type": "code",
   "execution_count": 10,
   "id": "deb8bed5-f089-4d02-9127-c001e8609acd",
   "metadata": {},
   "outputs": [
    {
     "data": {
      "text/html": [
       "<table><tr><th>Header</th><th>Data Arrays</th></tr><tr><td>\n",
       "<table>\n",
       "<tr><th>StructuredGrid</th><th>Information</th></tr>\n",
       "<tr><td>N Cells</td><td>16359090</td></tr>\n",
       "<tr><td>N Points</td><td>17875680</td></tr>\n",
       "<tr><td>X Bounds</td><td>0.000e+00, 1.335e+03</td></tr>\n",
       "<tr><td>Y Bounds</td><td>0.000e+00, 1.114e+03</td></tr>\n",
       "<tr><td>Z Bounds</td><td>-1.151e+03, -1.269e+02</td></tr>\n",
       "<tr><td>Dimensions</td><td>1336, 1115, 12</td></tr>\n",
       "<tr><td>N Arrays</td><td>1</td></tr>\n",
       "</table>\n",
       "\n",
       "</td><td>\n",
       "<table>\n",
       "<tr><th>Name</th><th>Field</th><th>Type</th><th>N Comp</th><th>Min</th><th>Max</th></tr>\n",
       "<tr><td><b>Elevation</b></td><td>Points</td><td>float64</td><td>1</td><td>-1.151e+03</td><td>-1.269e+02</td></tr>\n",
       "</table>\n",
       "\n",
       "</td></tr> </table>"
      ],
      "text/plain": [
       "StructuredGrid (0x7fe6a1035580)\n",
       "  N Cells:\t16359090\n",
       "  N Points:\t17875680\n",
       "  X Bounds:\t0.000e+00, 1.335e+03\n",
       "  Y Bounds:\t0.000e+00, 1.114e+03\n",
       "  Z Bounds:\t-1.151e+03, -1.269e+02\n",
       "  Dimensions:\t1336, 1115, 12\n",
       "  N Arrays:\t1"
      ]
     },
     "execution_count": 10,
     "metadata": {},
     "output_type": "execute_result"
    }
   ],
   "source": [
    "mesh"
   ]
  },
  {
   "cell_type": "code",
   "execution_count": 26,
   "id": "507c92d1-43b8-4ae4-9e3d-98312327a4c9",
   "metadata": {},
   "outputs": [],
   "source": [
    "pyvista.rcParams['transparent_background'] = False"
   ]
  },
  {
   "cell_type": "code",
   "execution_count": 33,
   "id": "a7300ddf-3255-43b3-9c5b-779dc25709bd",
   "metadata": {},
   "outputs": [
    {
     "data": {
      "application/vnd.jupyter.widget-view+json": {
       "model_id": "3a572d29cc8d4a608c265ca5c26a41e5",
       "version_major": 2,
       "version_minor": 0
      },
      "text/plain": [
       "ViewInteractiveWidget(height=4000, layout=Layout(height='auto', width='100%'), width=6000)"
      ]
     },
     "metadata": {},
     "output_type": "display_data"
    }
   ],
   "source": [
    "size= [6000, 4000]\n",
    "plotter = pyvista.Plotter(\n",
    "    # lighting='light_kit',\n",
    "                          window_size=size,\n",
    "                          # cpos=cpos,\n",
    "                          point_smoothing=True,\n",
    "                          \n",
    "                          polygon_smoothing=True,\n",
    "                          # multi_samples=8\n",
    "                         )\n",
    "plotter.background_color = 'k'\n",
    "plotter.eye_dome_lighting=True\n",
    "plotter.add_mesh(grid,\n",
    "                 show_scalar_bar=False,\n",
    "                 # lighting=False,\n",
    "                                  diffuse=0.5,\n",
    "#                  specular=0.5, \n",
    "                 ambient=0.5,\n",
    "                 cmap='nipy_spectral'\n",
    "                )\n",
    "plotter.add_mesh(grid2, color='red', opacity=.6)\n",
    "# mesh.plot(\n",
    "#     # show_edges=True,\n",
    "#           lighting=True, \n",
    "#     # cpos=cpos\n",
    "# )\n",
    "plotter.camera_position = [(1152.5904239115132, -1516.9928158608395, 2454.0124160254572),\n",
    " (667.5, 557.0, -420.9651679992676),\n",
    " (-0.12302234427330311, 0.79487271126025, 0.5941741122796246)]\n",
    "# grid2.plot(show_axes=True,color='r',  )\n",
    "plotter.add_mesh(pyvista.PolyData(path), color='white', point_size=20)\n",
    "plotter.show(screenshot='MAP3d.png')\n",
    "# plotter.show()\n"
   ]
  },
  {
   "cell_type": "code",
   "execution_count": 31,
   "id": "0f9d5863-4409-49da-b19e-30d7d52e3cf9",
   "metadata": {},
   "outputs": [],
   "source": [
    "plotter.save_graphic('test.eps')"
   ]
  },
  {
   "cell_type": "code",
   "execution_count": 34,
   "id": "6c8e89b1-0f69-4e99-b023-652216b759dc",
   "metadata": {},
   "outputs": [
    {
     "name": "stderr",
     "output_type": "stream",
     "text": [
      "/opt/anaconda3/envs/oc/lib/python3.9/site-packages/pyvista/jupyter/pv_pythreejs.py:436: UserWarning: Empty or unsupported dataset attached to actor\n",
      "  warnings.warn('Empty or unsupported dataset attached to actor')\n"
     ]
    }
   ],
   "source": [
    "plotter.export_html('osnap_bathy.html')"
   ]
  },
  {
   "cell_type": "code",
   "execution_count": 72,
   "id": "2d8c7ce7-803a-43d5-8d86-df5fa4b0bbf6",
   "metadata": {},
   "outputs": [
    {
     "data": {
      "application/vnd.jupyter.widget-view+json": {
       "model_id": "bdf0cb217ce545bd9932b3bbdef625e9",
       "version_major": 2,
       "version_minor": 0
      },
      "text/plain": [
       "ViewInteractiveWidget(height=768, layout=Layout(height='auto', width='100%'), width=1024)"
      ]
     },
     "metadata": {},
     "output_type": "display_data"
    }
   ],
   "source": [
    "cpos = [(490.919036652132, -1823.2024523209725, 2696.5152650918335),\n",
    " (667.5, 557.0, 159.0),\n",
    " (0.18414270255835863, 0.710454658793979, 0.6792242949809991)]\n",
    "\n",
    "plotter = pyvista.Plotter(lighting='light_kit',\n",
    "                          # window_size=size,\n",
    "                          # cpos=cpos,\n",
    "                          point_smoothing=True,\n",
    "                          \n",
    "                          polygon_smoothing=True,\n",
    "                          # multi_samples=8\n",
    "                         )\n",
    "plotter.background_color = None\n",
    "plotter.eye_dome_lighting=True\n",
    "\n",
    "plotter.add_mesh(mesh,\n",
    "#                  eye_dome_lighting=True,\n",
    "#                  scalars='elev',\n",
    "#                  texture=topo,\n",
    "#                  polygon_smoothing=True,\n",
    "#           cpos='xy',\n",
    "          # cpos=cpos, \n",
    "#                  opacity=\"linear_r\",\n",
    "          show_edges=False,\n",
    "# #           cmap=my_colormap,\n",
    "#           notebook=False,\n",
    "          cmap='nipy_spectral',\n",
    "       #    clim=[-300, -50],\n",
    "                 \n",
    "# #           lighting='three lights',\n",
    "          \n",
    "          show_scalar_bar=True,\n",
    "                 diffuse=0.5,\n",
    "#                  specular=0.5, \n",
    "                 ambient=0.5,\n",
    "#           background='white',\n",
    "#           screenshot='test.png',\n",
    "#                  color='white'\"\n",
    "                )\n",
    "# plotter.camera_position = cpos\n",
    "# plotter.add_mesh(grid2, color='red', opacity=.6,style='surface'\n",
    "                # )\n",
    "# plotter.add_mesh(pyvista.PolyData(path), color='white', point_size=20)\n",
    "plotter.show()\n",
    "# mesh.plot(\n",
    "#     # show_edges=True, \n",
    "#           lighting=False, \n",
    "#           # cpos=cpos\n",
    "#     cmap='nipy_spectral',\n",
    "#     clim=[-50,400],\n",
    "         # )"
   ]
  },
  {
   "cell_type": "code",
   "execution_count": null,
   "id": "febc992f-660b-4a7d-9b93-f8146fb15afb",
   "metadata": {},
   "outputs": [],
   "source": []
  },
  {
   "cell_type": "code",
   "execution_count": null,
   "id": "1a9aa125-cb61-4148-88c6-b05539883ac1",
   "metadata": {},
   "outputs": [],
   "source": []
  },
  {
   "cell_type": "code",
   "execution_count": 23,
   "id": "7be16597-4a05-4976-93f2-6a95a4c44d74",
   "metadata": {},
   "outputs": [],
   "source": [
    "topoOsnap = ost.loadTopo()\n",
    "lons = topoOsnap['moor_lon'].flatten()\n",
    "lats = topoOsnap['moor_lat'].flatten()\n",
    "\n",
    "Flon = interper.interp1d( lon,np.arange(lon.shape[0]) )\n",
    "Flat = interper.interp1d( lat,np.arange(lat.shape[0]), )\n",
    "\n",
    "# for each trace need an x a y a nd z\n",
    "\n",
    "points = [[Flon(lonin), Flat(latin), 100] for lonin,latin in zip(lons, lats)]\n",
    "# points = np.hstack(points)\n",
    "\n",
    "# z = np.full(lons.shape[0], -50)\n",
    "path = np.vstack(points)\n",
    "\n",
    "# z2 = np.full(lons.shape[0], 1)\n",
    "\n",
    "    \n",
    "ntraces = 1000\n",
    "zfake = []\n",
    "for zz in np.linspace(-3000, 1000, ntraces):\n",
    "    zz  = np.full((lons.shape[0]), zz)\n",
    "    zfake.append(zz)\n",
    "    \n",
    "zfake = np.stack(zfake).T\n",
    "\n",
    "# fake plane data\n",
    "# zfake = np.full((lons.shape[0], 100), 1)\n",
    "nsamples = zfake.shape[1]\n",
    "# n\n",
    "zspacing = .12\n",
    "path = pyvista.wrap(path).points\n",
    "points2 = np.repeat(path, nsamples, axis=0)\n",
    "# nsamples, ntraces = topo.shape\n",
    "\n",
    "# repeat the Z locations across\n",
    "z_spacing = .1\n",
    "tp = np.arange(0, z_spacing*nsamples, z_spacing)\n",
    "tp = path[:,2][:,None] - tp\n",
    "\n",
    "points2[:,-1] = tp.ravel()\n",
    "points2 = pyvista.wrap(points2).points\n"
   ]
  },
  {
   "cell_type": "code",
   "execution_count": 24,
   "id": "7a82df3a-f52d-43c7-a2bc-9ca8136dc75f",
   "metadata": {},
   "outputs": [
    {
     "data": {
      "text/plain": [
       "<matplotlib.colorbar.Colorbar at 0x7fad60a4a2e0>"
      ]
     },
     "execution_count": 24,
     "metadata": {},
     "output_type": "execute_result"
    },
    {
     "data": {
      "image/png": "[encoded data removed]",
      "text/plain": [
       "<Figure size 432x288 with 2 Axes>"
      ]
     },
     "metadata": {
      "needs_background": "light"
     },
     "output_type": "display_data"
    }
   ],
   "source": [
    "plt.contourf(zfake)\n",
    "plt.colorbar()"
   ]
  },
  {
   "cell_type": "code",
   "execution_count": 25,
   "id": "6538717e-0ad2-49a3-820d-26cb9aac4d37",
   "metadata": {},
   "outputs": [
    {
     "data": {
      "text/html": [
       "<table><tr><th>Header</th><th>Data Arrays</th></tr><tr><td>\n",
       "<table>\n",
       "<tr><th>StructuredGrid</th><th>Information</th></tr>\n",
       "<tr><td>N Cells</td><td>7992</td></tr>\n",
       "<tr><td>N Points</td><td>9000</td></tr>\n",
       "<tr><td>X Bounds</td><td>5.362e+01, 1.097e+03</td></tr>\n",
       "<tr><td>Y Bounds</td><td>2.223e+02, 4.178e+02</td></tr>\n",
       "<tr><td>Z Bounds</td><td>-1.190e+04, 4.000e+03</td></tr>\n",
       "<tr><td>Dimensions</td><td>1000, 9, 1</td></tr>\n",
       "<tr><td>N Arrays</td><td>1</td></tr>\n",
       "</table>\n",
       "\n",
       "</td><td>\n",
       "<table>\n",
       "<tr><th>Name</th><th>Field</th><th>Type</th><th>N Comp</th><th>Min</th><th>Max</th></tr>\n",
       "<tr><td><b>values</b></td><td>Points</td><td>float64</td><td>1</td><td>-3.000e+03</td><td>1.000e+03</td></tr>\n",
       "</table>\n",
       "\n",
       "</td></tr> </table>"
      ],
      "text/plain": [
       "StructuredGrid (0x7fad30c0afa0)\n",
       "  N Cells:\t7992\n",
       "  N Points:\t9000\n",
       "  X Bounds:\t5.362e+01, 1.097e+03\n",
       "  Y Bounds:\t2.223e+02, 4.178e+02\n",
       "  Z Bounds:\t-1.190e+04, 4.000e+03\n",
       "  Dimensions:\t1000, 9, 1\n",
       "  N Arrays:\t1"
      ]
     },
     "execution_count": 25,
     "metadata": {},
     "output_type": "execute_result"
    }
   ],
   "source": [
    "# grid2 = pv.StructuredGrid(points2[:,0], points2[:, 1], points2[:, 2])\n",
    "grid2 = pyvista.StructuredGrid()\n",
    "grid2.points = points2\n",
    "\n",
    "grid2.dimensions = nsamples, 9, 1 \n",
    "\n",
    "# grid2['values'] = np.full(points2.shape[0], 0)\n",
    "# grid.dimensions = lons\n",
    "grid2\n",
    "# # Add the data array - note the ordering!\n",
    "grid2[\"values\"] = zfake.ravel(order=\"C\")\n",
    "# grid2['elev'] = pyvista.plotting.normalize(grid['e']) * 100\n",
    "grid2 = grid2.warp_by_scalar(factor=4)\n",
    "grid2\n"
   ]
  },
  {
   "cell_type": "code",
   "execution_count": 28,
   "id": "7edcd16d-bf12-4faa-b331-ebfc5236d305",
   "metadata": {},
   "outputs": [
    {
     "data": {
      "application/vnd.jupyter.widget-view+json": {
       "model_id": "1b1ce332ce6a48abadc97c6161ddd85b",
       "version_major": 2,
       "version_minor": 0
      },
      "text/plain": [
       "ViewInteractiveWidget(height=768, layout=Layout(height='auto', width='100%'), width=1024)"
      ]
     },
     "metadata": {},
     "output_type": "display_data"
    }
   ],
   "source": [
    "cpos = [(490.919036652132, -1823.2024523209725, 2696.5152650918335),\n",
    " (667.5, 557.0, 159.0),\n",
    " (0.18414270255835863, 0.710454658793979, 0.6792242949809991)]\n",
    "\n",
    "plotter = pyvista.Plotter(lighting='light_kit',\n",
    "                          # window_size=size,\n",
    "                          # cpos=cpos,\n",
    "                          point_smoothing=True,\n",
    "                          \n",
    "                          polygon_smoothing=True,\n",
    "                          # multi_samples=8\n",
    "                         )\n",
    "plotter.background_color = None\n",
    "plotter.eye_dome_lighting=True\n",
    "\n",
    "plotter.add_mesh(mesh,\n",
    "#                  eye_dome_lighting=True,\n",
    "#                  scalars='elev',\n",
    "#                  texture=topo,\n",
    "#                  polygon_smoothing=True,\n",
    "#           cpos='xy',\n",
    "          # cpos=cpos, \n",
    "#                  opacity=\"linear_r\",\n",
    "          show_edges=False,\n",
    "# #           cmap=my_colormap,\n",
    "#           notebook=False,\n",
    "          cmap='nipy_spectral',\n",
    "       #    clim=[-300, -50],\n",
    "                 \n",
    "# #           lighting='three lights',\n",
    "          \n",
    "          show_scalar_bar=True,\n",
    "                 diffuse=0.5,\n",
    "#                  specular=0.5, \n",
    "                 ambient=0.5,\n",
    "#           background='white',\n",
    "#           screenshot='test.png',\n",
    "#                  color='white'\"\n",
    "                )\n",
    "# plotter.camera_position = cpos\n",
    "# plotter.add_mesh(grid2, color='red', opacity=.6,style='surface'\n",
    "                # )\n",
    "# plotter.add_mesh(pyvista.PolyData(path), color='white', point_size=20)\n",
    "plotter.show()\n",
    "# mesh.plot(\n",
    "#     # show_edges=True, \n",
    "#           lighting=False, \n",
    "#           # cpos=cpos\n",
    "#     cmap='nipy_spectral',\n",
    "#     clim=[-50,400],\n",
    "         # )"
   ]
  },
  {
   "cell_type": "code",
   "execution_count": 83,
   "id": "f2c785f8-22d4-4015-8128-65eac088ba67",
   "metadata": {},
   "outputs": [
    {
     "data": {
      "text/plain": [
       "[(490.919036652132, -1823.2024523209725, 2696.5152650918335),\n",
       " (667.5, 557.0, 159.0),\n",
       " (0.1841427025583586, 0.7104546587939788, 0.679224294980999)]"
      ]
     },
     "execution_count": 83,
     "metadata": {},
     "output_type": "execute_result"
    }
   ],
   "source": [
    "plotter.camera_position"
   ]
  },
  {
   "cell_type": "code",
   "execution_count": 63,
   "id": "e0e0269d-9d46-4965-8a0a-e40fe3be28af",
   "metadata": {},
   "outputs": [],
   "source": [
    "# [(490.919036652132, -1823.2024523209725, 2696.5152650918335),\n",
    "#  (667.5, 557.0, 159.0),\n",
    "#  (0.18414270255835863, 0.710454658793979, 0.6792242949809991)]"
   ]
  },
  {
   "cell_type": "code",
   "execution_count": null,
   "id": "549daade-36cb-4ed5-84ad-4cc3592be300",
   "metadata": {},
   "outputs": [],
   "source": []
  }
 ],
 "metadata": {
  "kernelspec": {
   "display_name": "Python 3 (ipykernel)",
   "language": "python",
   "name": "python3"
  },
  "language_info": {
   "codemirror_mode": {
    "name": "ipython",
    "version": 3
   },
   "file_extension": ".py",
   "mimetype": "text/x-python",
   "name": "python",
   "nbconvert_exporter": "python",
   "pygments_lexer": "ipython3",
   "version": "3.9.7"
  }
 },
 "nbformat": 4,
 "nbformat_minor": 5
}
